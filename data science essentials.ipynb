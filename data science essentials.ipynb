{
 "cells": [
  {
   "cell_type": "markdown",
   "metadata": {},
   "source": [
    "<center>\n",
    "    <img src=\"https://cf-courses-data.s3.us.cloud-object-storage.appdomain.cloud/IBMDeveloperSkillsNetwork-DS0105EN-SkillsNetwork/labs/Module2/images/SN_web_lightmode.png\" width=\"300\" alt=\"cognitiveclass.ai logo\">\n",
    "</center>\n"
   ]
  },
  {
   "cell_type": "markdown",
   "metadata": {},
   "source": [
    "#### Add your code below following the instructions given in the course\n"
   ]
  },
  {
   "attachments": {},
   "cell_type": "markdown",
   "metadata": {},
   "source": [
    "# Data Science Essentials\n"
   ]
  },
  {
   "cell_type": "markdown",
   "metadata": {},
   "source": [
    "Data Science is an interdisciplinary field that uses scientific methods, processes, algorithms, and systems to extract insights and knowledge from structured and unstructured data. This notebook introduces basic concepts and tools in Data Science."
   ]
  },
  {
   "cell_type": "markdown",
   "metadata": {},
   "source": [
    " Data Science Languages:\n",
    " \n",
    "Python\n",
    "R\n",
    "SQL\n",
    "Java\n",
    "Julia\n",
    "Scala\n",
    "MATLAB"
   ]
  },
  {
   "cell_type": "markdown",
   "metadata": {},
   "source": [
    " Data Science Libraries:\n",
    " Pandas\n",
    " NumPy\n",
    " Matplotlib\n",
    " Seaborn\n",
    " Scikit-learn\n",
    " TensorFlow\n",
    " PyTorch\n",
    " Keras"
   ]
  },
  {
   "cell_type": "markdown",
   "metadata": {},
   "source": [
    "| Tool Name\t         | Purpose                      |\n",
    "|--------------------|------------------------------|\n",
    "|Jupyter Notebook    |Interactive computing         |\n",
    "| RStudio            | Statistical computing        |\n",
    "| Apache Spark       | Big data processing          |\n",
    "| Tableau            | Data visualization           |\n",
    "| MATLAB             | Numerical computing          |"
   ]
  },
  {
   "cell_type": "markdown",
   "metadata": {},
   "source": [
    "### Arithmetic expressions are used in programming to perform mathematical operations such as addition, subtraction, multiplication, and division. Examples include:"
   ]
  },
  {
   "cell_type": "code",
   "execution_count": 4,
   "metadata": {},
   "outputs": [
    {
     "name": "stdout",
     "output_type": "stream",
     "text": [
      "Result of (5 * 4) + 3: 23\n"
     ]
    }
   ],
   "source": [
    "# Code to multiply and add numbers\n",
    "result = (5 * 4) + 3\n",
    "print(\"Result of (5 * 4) + 3:\", result)\n"
   ]
  },
  {
   "cell_type": "code",
   "execution_count": 5,
   "metadata": {},
   "outputs": [
    {
     "name": "stdout",
     "output_type": "stream",
     "text": [
      "150 minutes is equal to 2.5 hours.\n"
     ]
    }
   ],
   "source": [
    "# Code to convert minutes to hours\n",
    "minutes = 150\n",
    "hours = minutes / 60\n",
    "print(f\"{minutes} minutes is equal to {hours} hours.\")\n"
   ]
  },
  {
   "cell_type": "markdown",
   "metadata": {},
   "source": [
    "** Objectives: **\n",
    " cell with the title of the notebook\n",
    " cell for an introduction\n",
    " cell to list data science languages\n",
    " cell to list data science libraries\n",
    " cell with a table of Data Science tools\n",
    " cell introducing arithmetic expression \n",
    " cell to multiply and add numbers\n",
    " code cell to convert minutes to hours\n",
    " cell to list Objectives."
   ]
  },
  {
   "cell_type": "markdown",
   "metadata": {},
   "source": [
    "## Author\n",
    "sheroze Aslam khan"
   ]
  }
 ],
 "metadata": {
  "kernelspec": {
   "display_name": "Python 3 (ipykernel)",
   "language": "python",
   "name": "python3"
  },
  "language_info": {
   "codemirror_mode": {
    "name": "ipython",
    "version": 3
   },
   "file_extension": ".py",
   "mimetype": "text/x-python",
   "name": "python",
   "nbconvert_exporter": "python",
   "pygments_lexer": "ipython3",
   "version": "3.11.9"
  }
 },
 "nbformat": 4,
 "nbformat_minor": 4
}
